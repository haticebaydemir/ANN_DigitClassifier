{
 "cells": [
  {
   "cell_type": "code",
   "execution_count": 1,
   "id": "f9ca4d3b",
   "metadata": {
    "_cell_guid": "b1076dfc-b9ad-4769-8c92-a6c4dae69d19",
    "_uuid": "8f2839f25d086af736a60e9eeb907d3b93b6e0e5",
    "execution": {
     "iopub.execute_input": "2024-11-06T08:36:17.423150Z",
     "iopub.status.busy": "2024-11-06T08:36:17.422758Z",
     "iopub.status.idle": "2024-11-06T08:36:18.265901Z",
     "shell.execute_reply": "2024-11-06T08:36:18.264678Z"
    },
    "papermill": {
     "duration": 0.854912,
     "end_time": "2024-11-06T08:36:18.268255",
     "exception": false,
     "start_time": "2024-11-06T08:36:17.413343",
     "status": "completed"
    },
    "tags": []
   },
   "outputs": [
    {
     "name": "stdout",
     "output_type": "stream",
     "text": [
      "/kaggle/input/mnist-dataset/train-images.idx3-ubyte\n",
      "/kaggle/input/mnist-dataset/t10k-labels.idx1-ubyte\n",
      "/kaggle/input/mnist-dataset/t10k-images.idx3-ubyte\n",
      "/kaggle/input/mnist-dataset/train-labels.idx1-ubyte\n",
      "/kaggle/input/mnist-dataset/t10k-labels-idx1-ubyte/t10k-labels-idx1-ubyte\n",
      "/kaggle/input/mnist-dataset/t10k-images-idx3-ubyte/t10k-images-idx3-ubyte\n",
      "/kaggle/input/mnist-dataset/train-labels-idx1-ubyte/train-labels-idx1-ubyte\n",
      "/kaggle/input/mnist-dataset/train-images-idx3-ubyte/train-images-idx3-ubyte\n"
     ]
    }
   ],
   "source": [
    "# This Python 3 environment comes with many helpful analytics libraries installed\n",
    "# It is defined by the kaggle/python Docker image: https://github.com/kaggle/docker-python\n",
    "# For example, here's several helpful packages to load\n",
    "\n",
    "import numpy as np # linear algebra\n",
    "import pandas as pd # data processing, CSV file I/O (e.g. pd.read_csv)\n",
    "\n",
    "# Input data files are available in the read-only \"../input/\" directory\n",
    "# For example, running this (by clicking run or pressing Shift+Enter) will list all files under the input directory\n",
    "\n",
    "import os\n",
    "for dirname, _, filenames in os.walk('/kaggle/input'):\n",
    "    for filename in filenames:\n",
    "        print(os.path.join(dirname, filename))\n",
    "\n",
    "# You can write up to 20GB to the current directory (/kaggle/working/) that gets preserved as output when you create a version using \"Save & Run All\" \n",
    "# You can also write temporary files to /kaggle/temp/, but they won't be saved outside of the current session"
   ]
  },
  {
   "cell_type": "code",
   "execution_count": 2,
   "id": "1d89e345",
   "metadata": {
    "execution": {
     "iopub.execute_input": "2024-11-06T08:36:18.286969Z",
     "iopub.status.busy": "2024-11-06T08:36:18.286413Z",
     "iopub.status.idle": "2024-11-06T08:36:32.375199Z",
     "shell.execute_reply": "2024-11-06T08:36:32.374178Z"
    },
    "papermill": {
     "duration": 14.099899,
     "end_time": "2024-11-06T08:36:32.377811",
     "exception": false,
     "start_time": "2024-11-06T08:36:18.277912",
     "status": "completed"
    },
    "tags": []
   },
   "outputs": [],
   "source": [
    "import pandas as pd\n",
    "import numpy as np\n",
    "import matplotlib.pyplot as plt\n",
    "from sklearn.model_selection import train_test_split\n",
    "\n",
    "import struct\n",
    "import warnings\n",
    "warnings.filterwarnings('ignore')\n",
    "import tensorflow as tf"
   ]
  },
  {
   "cell_type": "code",
   "execution_count": 3,
   "id": "df0dbda8",
   "metadata": {
    "execution": {
     "iopub.execute_input": "2024-11-06T08:36:32.395010Z",
     "iopub.status.busy": "2024-11-06T08:36:32.394007Z",
     "iopub.status.idle": "2024-11-06T08:36:32.404597Z",
     "shell.execute_reply": "2024-11-06T08:36:32.403546Z"
    },
    "papermill": {
     "duration": 0.021173,
     "end_time": "2024-11-06T08:36:32.406565",
     "exception": false,
     "start_time": "2024-11-06T08:36:32.385392",
     "status": "completed"
    },
    "tags": []
   },
   "outputs": [
    {
     "data": {
      "text/plain": [
       "[]"
      ]
     },
     "execution_count": 3,
     "metadata": {},
     "output_type": "execute_result"
    }
   ],
   "source": [
    "tf.config.list_physical_devices('GPU')"
   ]
  },
  {
   "cell_type": "code",
   "execution_count": 4,
   "id": "2f01dfd5",
   "metadata": {
    "execution": {
     "iopub.execute_input": "2024-11-06T08:36:32.423777Z",
     "iopub.status.busy": "2024-11-06T08:36:32.423022Z",
     "iopub.status.idle": "2024-11-06T08:36:32.430072Z",
     "shell.execute_reply": "2024-11-06T08:36:32.429057Z"
    },
    "papermill": {
     "duration": 0.017986,
     "end_time": "2024-11-06T08:36:32.432226",
     "exception": false,
     "start_time": "2024-11-06T08:36:32.414240",
     "status": "completed"
    },
    "tags": []
   },
   "outputs": [],
   "source": [
    "import struct\n",
    "import numpy as np\n",
    "\n",
    "# File paths for MNIST dataset\n",
    "train_images_path = '/kaggle/input/mnist-dataset/train-images.idx3-ubyte'\n",
    "train_labels_path = '/kaggle/input/mnist-dataset/train-labels.idx1-ubyte'\n",
    "test_images_path = '/kaggle/input/mnist-dataset/t10k-images.idx3-ubyte'\n",
    "test_labels_path = '/kaggle/input/mnist-dataset/t10k-labels.idx1-ubyte'\n",
    "\n",
    "# Function to load files in IDX format\n",
    "def load_idx(filename):\n",
    "    # Open the file in binary read mode\n",
    "    with open(filename, 'rb') as f:\n",
    "        # Read the first 4 bytes to get metadata (zero padding, data type, dimensions)\n",
    "        zero, data_type, dims = struct.unpack('>HBB', f.read(4))\n",
    "        \n",
    "        # Determine the shape of the data (number of dimensions)\n",
    "        shape = tuple(struct.unpack('>I', f.read(4))[0] for d in range(dims))\n",
    "        \n",
    "        # Load the remaining bytes as a numpy array and reshape it according to the dimensions\n",
    "        return np.frombuffer(f.read(), dtype=np.uint8).reshape(shape)"
   ]
  },
  {
   "cell_type": "code",
   "execution_count": 5,
   "id": "083ba486",
   "metadata": {
    "execution": {
     "iopub.execute_input": "2024-11-06T08:36:32.450221Z",
     "iopub.status.busy": "2024-11-06T08:36:32.449255Z",
     "iopub.status.idle": "2024-11-06T08:36:32.455969Z",
     "shell.execute_reply": "2024-11-06T08:36:32.454903Z"
    },
    "papermill": {
     "duration": 0.01741,
     "end_time": "2024-11-06T08:36:32.458070",
     "exception": false,
     "start_time": "2024-11-06T08:36:32.440660",
     "status": "completed"
    },
    "tags": []
   },
   "outputs": [],
   "source": [
    "train_images_path = '/kaggle/input/mnist-dataset/train-images.idx3-ubyte'\n",
    "train_labels_path = '/kaggle/input/mnist-dataset/train-labels.idx1-ubyte'\n",
    "test_images_path = '/kaggle/input/mnist-dataset/t10k-images.idx3-ubyte'\n",
    "test_labels_path = '/kaggle/input/mnist-dataset/t10k-labels.idx1-ubyte'\n",
    "\n",
    "# To load files in IDX format\n",
    "def load_idx(filename):\n",
    "    with open(filename, 'rb') as f:\n",
    "        zero, data_type, dims = struct.unpack('>HBB', f.read(4))\n",
    "        shape = tuple(struct.unpack('>I', f.read(4))[0] for d in range(dims))\n",
    "        return np.frombuffer(f.read(), dtype=np.uint8).reshape(shape)"
   ]
  },
  {
   "cell_type": "code",
   "execution_count": 6,
   "id": "a1abfdf4",
   "metadata": {
    "execution": {
     "iopub.execute_input": "2024-11-06T08:36:32.475437Z",
     "iopub.status.busy": "2024-11-06T08:36:32.474274Z",
     "iopub.status.idle": "2024-11-06T08:36:32.838176Z",
     "shell.execute_reply": "2024-11-06T08:36:32.837149Z"
    },
    "papermill": {
     "duration": 0.375146,
     "end_time": "2024-11-06T08:36:32.840825",
     "exception": false,
     "start_time": "2024-11-06T08:36:32.465679",
     "status": "completed"
    },
    "tags": []
   },
   "outputs": [],
   "source": [
    "# Loading the data\n",
    "X_train = load_idx(train_images_path)\n",
    "y_train = load_idx(train_labels_path)\n",
    "X_test = load_idx(test_images_path)\n",
    "y_test = load_idx(test_labels_path)"
   ]
  },
  {
   "cell_type": "code",
   "execution_count": 7,
   "id": "aecc0e31",
   "metadata": {
    "execution": {
     "iopub.execute_input": "2024-11-06T08:36:32.858071Z",
     "iopub.status.busy": "2024-11-06T08:36:32.857379Z",
     "iopub.status.idle": "2024-11-06T08:36:32.863063Z",
     "shell.execute_reply": "2024-11-06T08:36:32.862113Z"
    },
    "papermill": {
     "duration": 0.01716,
     "end_time": "2024-11-06T08:36:32.865702",
     "exception": false,
     "start_time": "2024-11-06T08:36:32.848542",
     "status": "completed"
    },
    "tags": []
   },
   "outputs": [
    {
     "name": "stdout",
     "output_type": "stream",
     "text": [
      "X_train shape: (60000, 28, 28)\n",
      "X_test shape: (10000, 28, 28)\n",
      "y_train shape: (60000,)\n",
      "y_test shape: (10000,)\n"
     ]
    }
   ],
   "source": [
    "# Let's check the dimensions of the data\n",
    "print('X_train shape:', X_train.shape)\n",
    "print('X_test shape:', X_test.shape)\n",
    "print('y_train shape:', y_train.shape)\n",
    "print('y_test shape:', y_test.shape)"
   ]
  },
  {
   "cell_type": "markdown",
   "id": "5bf273a0",
   "metadata": {
    "papermill": {
     "duration": 0.007115,
     "end_time": "2024-11-06T08:36:32.880411",
     "exception": false,
     "start_time": "2024-11-06T08:36:32.873296",
     "status": "completed"
    },
    "tags": []
   },
   "source": [
    "*X_train shape*: (60000, 28, 28)\n",
    "* 60000: There are a total of 60,000 handwritten digit images in the training set.\n",
    "* 28, 28: Each image is 28x28 pixels in size.\n",
    "\n",
    "*X_test shape*: (10000, 28, 28)\n",
    "* 10000: There are a total of 10,000 handwritten digit images in the test set.\n",
    "* 28, 28: Each image is also 28x28 pixels in size.\n",
    "\n",
    "*y_train shape*: (60000,)\n",
    "* 60000: The training labels consist of an array with 60,000 elements, one for each training image.\n",
    "\n",
    "*y_test shape*: (10000,)\n",
    "* 10000: The test labels consist of an array with 10,000 elements, one for each test image."
   ]
  },
  {
   "cell_type": "code",
   "execution_count": 8,
   "id": "b2341365",
   "metadata": {
    "execution": {
     "iopub.execute_input": "2024-11-06T08:36:32.897669Z",
     "iopub.status.busy": "2024-11-06T08:36:32.896682Z",
     "iopub.status.idle": "2024-11-06T08:36:33.233528Z",
     "shell.execute_reply": "2024-11-06T08:36:33.232470Z"
    },
    "papermill": {
     "duration": 0.348199,
     "end_time": "2024-11-06T08:36:33.235989",
     "exception": false,
     "start_time": "2024-11-06T08:36:32.887790",
     "status": "completed"
    },
    "tags": []
   },
   "outputs": [
    {
     "data": {
      "image/png": "[encoded data removed]",
      "text/plain": [
       "<Figure size 1000x200 with 5 Axes>"
      ]
     },
     "metadata": {},
     "output_type": "display_data"
    }
   ],
   "source": [
    "def plot_images(images, labels, num_images=5):\n",
    "    # Create a figure for displaying images\n",
    "    plt.figure(figsize=(10, 2))\n",
    "    \n",
    "    for i in range(num_images):\n",
    "        plt.subplot(1, num_images, i + 1)  # Create a subplot for each image\n",
    "        plt.imshow(images[i], cmap='gray')  # Display the image in grayscale\n",
    "        plt.title(f'Label: {labels[i]}')  # Set the title as the corresponding label\n",
    "        plt.axis('off')  # Turn off the axis for a cleaner visualization\n",
    "    plt.show()  # Show the plot with the selected images and labels\n",
    "# Example: Plot 5 images and their corresponding labels    \n",
    "plot_images(X_train, y_train, num_images=5)"
   ]
  },
  {
   "cell_type": "code",
   "execution_count": 9,
   "id": "5115ca46",
   "metadata": {
    "execution": {
     "iopub.execute_input": "2024-11-06T08:36:33.253815Z",
     "iopub.status.busy": "2024-11-06T08:36:33.253289Z",
     "iopub.status.idle": "2024-11-06T08:36:33.357990Z",
     "shell.execute_reply": "2024-11-06T08:36:33.356868Z"
    },
    "papermill": {
     "duration": 0.116484,
     "end_time": "2024-11-06T08:36:33.360496",
     "exception": false,
     "start_time": "2024-11-06T08:36:33.244012",
     "status": "completed"
    },
    "tags": []
   },
   "outputs": [],
   "source": [
    "# Flatten the images from 28x28 dimensions and normalize them\n",
    "X_train = X_train.reshape((X_train.shape[0], 28 * 28)).astype('float32') / 255\n",
    "X_test = X_test.reshape((X_test.shape[0], 28 * 28)).astype('float32') / 255"
   ]
  },
  {
   "cell_type": "code",
   "execution_count": 10,
   "id": "ffa6d660",
   "metadata": {
    "execution": {
     "iopub.execute_input": "2024-11-06T08:36:33.378540Z",
     "iopub.status.busy": "2024-11-06T08:36:33.377423Z",
     "iopub.status.idle": "2024-11-06T08:36:33.383896Z",
     "shell.execute_reply": "2024-11-06T08:36:33.382825Z"
    },
    "papermill": {
     "duration": 0.019387,
     "end_time": "2024-11-06T08:36:33.387817",
     "exception": false,
     "start_time": "2024-11-06T08:36:33.368430",
     "status": "completed"
    },
    "tags": []
   },
   "outputs": [
    {
     "name": "stdout",
     "output_type": "stream",
     "text": [
      "X_train shape: (60000, 784)\n",
      "X_test shape: (10000, 784)\n"
     ]
    }
   ],
   "source": [
    "# Print the shapes of the flattened training and test datasets to ensure correct transformation from 28x28 images to 784-dimensional arrays.\n",
    "print('X_train shape:', X_train.shape)\n",
    "print('X_test shape:', X_test.shape)"
   ]
  },
  {
   "cell_type": "code",
   "execution_count": 11,
   "id": "c1168606",
   "metadata": {
    "execution": {
     "iopub.execute_input": "2024-11-06T08:36:33.406343Z",
     "iopub.status.busy": "2024-11-06T08:36:33.405393Z",
     "iopub.status.idle": "2024-11-06T08:36:33.497293Z",
     "shell.execute_reply": "2024-11-06T08:36:33.496326Z"
    },
    "papermill": {
     "duration": 0.103754,
     "end_time": "2024-11-06T08:36:33.499824",
     "exception": false,
     "start_time": "2024-11-06T08:36:33.396070",
     "status": "completed"
    },
    "tags": []
   },
   "outputs": [],
   "source": [
    "# Split the training data into training and validation sets.\n",
    "# 20% of the data will be used for validation, while 80% will remain for training.\n",
    "# The random_state parameter ensures reproducibility of the split.\n",
    "X_train, X_val, y_train, y_val = train_test_split(X_train, y_train, test_size=0.2, random_state=42)"
   ]
  },
  {
   "cell_type": "code",
   "execution_count": 12,
   "id": "5ca79b13",
   "metadata": {
    "execution": {
     "iopub.execute_input": "2024-11-06T08:36:33.517279Z",
     "iopub.status.busy": "2024-11-06T08:36:33.516877Z",
     "iopub.status.idle": "2024-11-06T08:36:33.599159Z",
     "shell.execute_reply": "2024-11-06T08:36:33.597995Z"
    },
    "papermill": {
     "duration": 0.093923,
     "end_time": "2024-11-06T08:36:33.601772",
     "exception": false,
     "start_time": "2024-11-06T08:36:33.507849",
     "status": "completed"
    },
    "tags": []
   },
   "outputs": [],
   "source": [
    "# Apply one-hot encoding to the class labels for training, validation, and test datasets.\n",
    "# This transforms the labels into a binary matrix representation, \n",
    "# with 10 classes in total, enabling multi-class classification.\n",
    "y_train = tf.keras.utils.to_categorical(y_train, 10)\n",
    "y_val = tf.keras.utils.to_categorical(y_val, 10)\n",
    "y_test = tf.keras.utils.to_categorical(y_test, 10)"
   ]
  },
  {
   "cell_type": "markdown",
   "id": "d7a4f5c6",
   "metadata": {
    "papermill": {
     "duration": 0.007635,
     "end_time": "2024-11-06T08:36:33.617591",
     "exception": false,
     "start_time": "2024-11-06T08:36:33.609956",
     "status": "completed"
    },
    "tags": []
   },
   "source": [
    "One-hot encoding is applied to class labels to enable multi-class classification. This process prevents the model from assuming any ordinal relationship between classes and enhances compatibility with loss functions like categorical cross-entropy. As a result, the model's learning process is optimized, allowing for a clear distinction between classes."
   ]
  },
  {
   "cell_type": "code",
   "execution_count": 13,
   "id": "de8c5137",
   "metadata": {
    "execution": {
     "iopub.execute_input": "2024-11-06T08:36:33.641221Z",
     "iopub.status.busy": "2024-11-06T08:36:33.640500Z",
     "iopub.status.idle": "2024-11-06T08:36:33.649479Z",
     "shell.execute_reply": "2024-11-06T08:36:33.648504Z"
    },
    "papermill": {
     "duration": 0.025407,
     "end_time": "2024-11-06T08:36:33.652518",
     "exception": false,
     "start_time": "2024-11-06T08:36:33.627111",
     "status": "completed"
    },
    "tags": []
   },
   "outputs": [
    {
     "data": {
      "text/plain": [
       "array([[0., 0., 0., 0., 0., 1., 0., 0., 0., 0.],\n",
       "       [1., 0., 0., 0., 0., 0., 0., 0., 0., 0.],\n",
       "       [0., 1., 0., 0., 0., 0., 0., 0., 0., 0.],\n",
       "       [0., 0., 0., 0., 0., 0., 1., 0., 0., 0.],\n",
       "       [0., 1., 0., 0., 0., 0., 0., 0., 0., 0.]])"
      ]
     },
     "execution_count": 13,
     "metadata": {},
     "output_type": "execute_result"
    }
   ],
   "source": [
    "# Display the first five encoded class labels to verify the one-hot encoding process.\n",
    "y_train[:5]"
   ]
  },
  {
   "cell_type": "markdown",
   "id": "6fa3941a",
   "metadata": {
    "papermill": {
     "duration": 0.013567,
     "end_time": "2024-11-06T08:36:33.680542",
     "exception": false,
     "start_time": "2024-11-06T08:36:33.666975",
     "status": "completed"
    },
    "tags": []
   },
   "source": [
    "**Model**"
   ]
  },
  {
   "cell_type": "code",
   "execution_count": 14,
   "id": "d5648911",
   "metadata": {
    "execution": {
     "iopub.execute_input": "2024-11-06T08:36:33.710530Z",
     "iopub.status.busy": "2024-11-06T08:36:33.710106Z",
     "iopub.status.idle": "2024-11-06T08:36:33.718768Z",
     "shell.execute_reply": "2024-11-06T08:36:33.717646Z"
    },
    "papermill": {
     "duration": 0.025408,
     "end_time": "2024-11-06T08:36:33.720905",
     "exception": false,
     "start_time": "2024-11-06T08:36:33.695497",
     "status": "completed"
    },
    "tags": []
   },
   "outputs": [],
   "source": [
    "# Construct the model using a sequential architecture, which allows layers to be stacked linearly.\n",
    "model = tf.keras.models.Sequential()"
   ]
  },
  {
   "cell_type": "markdown",
   "id": "65590c55",
   "metadata": {
    "papermill": {
     "duration": 0.00905,
     "end_time": "2024-11-06T08:36:33.741679",
     "exception": false,
     "start_time": "2024-11-06T08:36:33.732629",
     "status": "completed"
    },
    "tags": []
   },
   "source": [
    "**Input Layer**"
   ]
  },
  {
   "cell_type": "code",
   "execution_count": 15,
   "id": "ff2194ae",
   "metadata": {
    "execution": {
     "iopub.execute_input": "2024-11-06T08:36:33.766278Z",
     "iopub.status.busy": "2024-11-06T08:36:33.765000Z",
     "iopub.status.idle": "2024-11-06T08:36:33.838559Z",
     "shell.execute_reply": "2024-11-06T08:36:33.837604Z"
    },
    "papermill": {
     "duration": 0.088072,
     "end_time": "2024-11-06T08:36:33.841061",
     "exception": false,
     "start_time": "2024-11-06T08:36:33.752989",
     "status": "completed"
    },
    "tags": []
   },
   "outputs": [],
   "source": [
    "# Define the input layer with the shape corresponding to flattened 28x28 images\n",
    "model.add(tf.keras.layers.Input(shape=(28 * 28,)))\n",
    "\n",
    "# Add the first hidden layer with 512 units and ReLU activation function\n",
    "model.add(tf.keras.layers.Dense(512, activation='relu'))\n",
    "\n",
    "# Add a dropout layer with a rate of 0.3 to reduce overfitting during training\n",
    "model.add(tf.keras.layers.Dropout(0.3))"
   ]
  },
  {
   "cell_type": "markdown",
   "id": "e7eefcda",
   "metadata": {
    "papermill": {
     "duration": 0.007638,
     "end_time": "2024-11-06T08:36:33.856983",
     "exception": false,
     "start_time": "2024-11-06T08:36:33.849345",
     "status": "completed"
    },
    "tags": []
   },
   "source": [
    "**Hidden Layer**"
   ]
  },
  {
   "cell_type": "code",
   "execution_count": 16,
   "id": "5427fb41",
   "metadata": {
    "execution": {
     "iopub.execute_input": "2024-11-06T08:36:33.875280Z",
     "iopub.status.busy": "2024-11-06T08:36:33.874313Z",
     "iopub.status.idle": "2024-11-06T08:36:33.921447Z",
     "shell.execute_reply": "2024-11-06T08:36:33.920487Z"
    },
    "papermill": {
     "duration": 0.05928,
     "end_time": "2024-11-06T08:36:33.924234",
     "exception": false,
     "start_time": "2024-11-06T08:36:33.864954",
     "status": "completed"
    },
    "tags": []
   },
   "outputs": [],
   "source": [
    "# Adding the first hidden layer with 256 units and ReLU activation function.\n",
    "model.add(tf.keras.layers.Dense(256, activation='relu'))  # hidden layer 1\n",
    "\n",
    "# Adding a dropout layer with a rate of 0.3 to reduce overfitting.\n",
    "model.add(tf.keras.layers.Dropout(0.3))\n",
    "\n",
    "# Adding the second hidden layer with 128 units and ReLU activation function.\n",
    "model.add(tf.keras.layers.Dense(128, activation='relu'))  # hidden layer 2\n",
    "\n",
    "# Adding another dropout layer with a rate of 0.3 to enhance generalization.\n",
    "model.add(tf.keras.layers.Dropout(0.3))"
   ]
  },
  {
   "cell_type": "markdown",
   "id": "19281318",
   "metadata": {
    "papermill": {
     "duration": 0.00769,
     "end_time": "2024-11-06T08:36:33.940006",
     "exception": false,
     "start_time": "2024-11-06T08:36:33.932316",
     "status": "completed"
    },
    "tags": []
   },
   "source": [
    "**Output Layer**"
   ]
  },
  {
   "cell_type": "code",
   "execution_count": 17,
   "id": "8476bef1",
   "metadata": {
    "execution": {
     "iopub.execute_input": "2024-11-06T08:36:33.958021Z",
     "iopub.status.busy": "2024-11-06T08:36:33.957211Z",
     "iopub.status.idle": "2024-11-06T08:36:33.976689Z",
     "shell.execute_reply": "2024-11-06T08:36:33.975815Z"
    },
    "papermill": {
     "duration": 0.031078,
     "end_time": "2024-11-06T08:36:33.979164",
     "exception": false,
     "start_time": "2024-11-06T08:36:33.948086",
     "status": "completed"
    },
    "tags": []
   },
   "outputs": [],
   "source": [
    "# Output layer: Using softmax activation for multi-class classification.\n",
    "model.add(tf.keras.layers.Dense(10, activation='softmax'))"
   ]
  },
  {
   "cell_type": "markdown",
   "id": "6c2c0cff",
   "metadata": {
    "papermill": {
     "duration": 0.007814,
     "end_time": "2024-11-06T08:36:33.994993",
     "exception": false,
     "start_time": "2024-11-06T08:36:33.987179",
     "status": "completed"
    },
    "tags": []
   },
   "source": [
    "**Model Compilation**"
   ]
  },
  {
   "cell_type": "code",
   "execution_count": 18,
   "id": "aec3d0b2",
   "metadata": {
    "execution": {
     "iopub.execute_input": "2024-11-06T08:36:34.012406Z",
     "iopub.status.busy": "2024-11-06T08:36:34.011986Z",
     "iopub.status.idle": "2024-11-06T08:36:34.027069Z",
     "shell.execute_reply": "2024-11-06T08:36:34.026011Z"
    },
    "papermill": {
     "duration": 0.026622,
     "end_time": "2024-11-06T08:36:34.029453",
     "exception": false,
     "start_time": "2024-11-06T08:36:34.002831",
     "status": "completed"
    },
    "tags": []
   },
   "outputs": [],
   "source": [
    "# Compile the model using the Adam optimizer and categorical cross-entropy loss for multi-class classification, tracking accuracy as a metric.\n",
    "model.compile(optimizer='adam', loss='categorical_crossentropy', metrics=['accuracy'])"
   ]
  },
  {
   "cell_type": "code",
   "execution_count": 19,
   "id": "608d5e98",
   "metadata": {
    "execution": {
     "iopub.execute_input": "2024-11-06T08:36:34.047516Z",
     "iopub.status.busy": "2024-11-06T08:36:34.046534Z",
     "iopub.status.idle": "2024-11-06T08:36:34.051834Z",
     "shell.execute_reply": "2024-11-06T08:36:34.050846Z"
    },
    "papermill": {
     "duration": 0.01633,
     "end_time": "2024-11-06T08:36:34.053898",
     "exception": false,
     "start_time": "2024-11-06T08:36:34.037568",
     "status": "completed"
    },
    "tags": []
   },
   "outputs": [],
   "source": [
    "# Early stopping callback to prevent overfitting during training.\n",
    "early_stopping = tf.keras.callbacks.EarlyStopping(\n",
    "    monitor='val_loss',  # Metric to monitor (validation loss)\n",
    "    patience=3,          # Stop training after 3 epochs without improvement in val_loss\n",
    "    restore_best_weights=True,  # Restore the weights of the best model\n",
    "    verbose=1            # Print status updates during training\n",
    ")"
   ]
  },
  {
   "cell_type": "markdown",
   "id": "835a7909",
   "metadata": {
    "papermill": {
     "duration": 0.007583,
     "end_time": "2024-11-06T08:36:34.069361",
     "exception": false,
     "start_time": "2024-11-06T08:36:34.061778",
     "status": "completed"
    },
    "tags": []
   },
   "source": [
    "*Early stopping* is a regularization technique used to prevent overfitting in machine learning models, particularly neural networks.\n",
    "**Key Points:**\n",
    "* Purpose: To enhance model generalization by stopping training before the model learns the noise in the training data.\n",
    "* Mechanism: The training process monitors a specific metric (commonly validation loss). If this metric does not improve for a defined number of consecutive epochs (known as \"patience\"), training is halted.\n",
    "* Key Parameters:\n",
    "* * Monitor: The metric to be observed (e.g., val_loss).\n",
    "  * Patience: The number of epochs without improvement after which training will stop.\n",
    "  * Restore Best Weights: A setting to restore the weights of the best-performing model instead of the final model.\n",
    "\n",
    "Benefits:\n",
    "* Prevents overfitting, thereby improving the model’s performance on unseen data.\n",
    "* Saves computational resources by terminating training when further improvements are unlikely.\n",
    "\n",
    "In summary, early stopping is an effective technique for optimizing the training process, ensuring the model maintains its best performance while minimizing the risk of overfitting."
   ]
  },
  {
   "cell_type": "markdown",
   "id": "cec63711",
   "metadata": {
    "papermill": {
     "duration": 0.007469,
     "end_time": "2024-11-06T08:36:34.084566",
     "exception": false,
     "start_time": "2024-11-06T08:36:34.077097",
     "status": "completed"
    },
    "tags": []
   },
   "source": [
    "**Model Training**"
   ]
  },
  {
   "cell_type": "code",
   "execution_count": 20,
   "id": "b327a281",
   "metadata": {
    "execution": {
     "iopub.execute_input": "2024-11-06T08:36:34.102205Z",
     "iopub.status.busy": "2024-11-06T08:36:34.101451Z",
     "iopub.status.idle": "2024-11-06T08:37:13.271730Z",
     "shell.execute_reply": "2024-11-06T08:37:13.270634Z"
    },
    "papermill": {
     "duration": 39.182001,
     "end_time": "2024-11-06T08:37:13.274447",
     "exception": false,
     "start_time": "2024-11-06T08:36:34.092446",
     "status": "completed"
    },
    "tags": []
   },
   "outputs": [
    {
     "name": "stdout",
     "output_type": "stream",
     "text": [
      "Epoch 1/10\n",
      "\u001b[1m375/375\u001b[0m \u001b[32m━━━━━━━━━━━━━━━━━━━━\u001b[0m\u001b[37m\u001b[0m \u001b[1m5s\u001b[0m 10ms/step - accuracy: 0.7732 - loss: 0.7080 - val_accuracy: 0.9587 - val_loss: 0.1352\n",
      "Epoch 2/10\n",
      "\u001b[1m375/375\u001b[0m \u001b[32m━━━━━━━━━━━━━━━━━━━━\u001b[0m\u001b[37m\u001b[0m \u001b[1m5s\u001b[0m 9ms/step - accuracy: 0.9509 - loss: 0.1700 - val_accuracy: 0.9686 - val_loss: 0.1055\n",
      "Epoch 3/10\n",
      "\u001b[1m375/375\u001b[0m \u001b[32m━━━━━━━━━━━━━━━━━━━━\u001b[0m\u001b[37m\u001b[0m \u001b[1m4s\u001b[0m 9ms/step - accuracy: 0.9655 - loss: 0.1159 - val_accuracy: 0.9740 - val_loss: 0.0901\n",
      "Epoch 4/10\n",
      "\u001b[1m375/375\u001b[0m \u001b[32m━━━━━━━━━━━━━━━━━━━━\u001b[0m\u001b[37m\u001b[0m \u001b[1m3s\u001b[0m 9ms/step - accuracy: 0.9717 - loss: 0.0921 - val_accuracy: 0.9761 - val_loss: 0.0855\n",
      "Epoch 5/10\n",
      "\u001b[1m375/375\u001b[0m \u001b[32m━━━━━━━━━━━━━━━━━━━━\u001b[0m\u001b[37m\u001b[0m \u001b[1m4s\u001b[0m 9ms/step - accuracy: 0.9753 - loss: 0.0772 - val_accuracy: 0.9787 - val_loss: 0.0790\n",
      "Epoch 6/10\n",
      "\u001b[1m375/375\u001b[0m \u001b[32m━━━━━━━━━━━━━━━━━━━━\u001b[0m\u001b[37m\u001b[0m \u001b[1m4s\u001b[0m 11ms/step - accuracy: 0.9776 - loss: 0.0725 - val_accuracy: 0.9787 - val_loss: 0.0768\n",
      "Epoch 7/10\n",
      "\u001b[1m375/375\u001b[0m \u001b[32m━━━━━━━━━━━━━━━━━━━━\u001b[0m\u001b[37m\u001b[0m \u001b[1m4s\u001b[0m 9ms/step - accuracy: 0.9815 - loss: 0.0586 - val_accuracy: 0.9778 - val_loss: 0.0809\n",
      "Epoch 8/10\n",
      "\u001b[1m375/375\u001b[0m \u001b[32m━━━━━━━━━━━━━━━━━━━━\u001b[0m\u001b[37m\u001b[0m \u001b[1m4s\u001b[0m 9ms/step - accuracy: 0.9822 - loss: 0.0567 - val_accuracy: 0.9776 - val_loss: 0.0794\n",
      "Epoch 9/10\n",
      "\u001b[1m375/375\u001b[0m \u001b[32m━━━━━━━━━━━━━━━━━━━━\u001b[0m\u001b[37m\u001b[0m \u001b[1m4s\u001b[0m 9ms/step - accuracy: 0.9840 - loss: 0.0502 - val_accuracy: 0.9808 - val_loss: 0.0743\n",
      "Epoch 10/10\n",
      "\u001b[1m375/375\u001b[0m \u001b[32m━━━━━━━━━━━━━━━━━━━━\u001b[0m\u001b[37m\u001b[0m \u001b[1m4s\u001b[0m 9ms/step - accuracy: 0.9861 - loss: 0.0449 - val_accuracy: 0.9777 - val_loss: 0.0812\n"
     ]
    }
   ],
   "source": [
    "# Train the model on the training dataset using specified parameters.\n",
    "# The model will be trained for 10 epochs with a batch size of 128.\n",
    "# Validation data is provided to monitor performance on the validation set after each epoch.\n",
    "results = model.fit(X_train, y_train, epochs=10, batch_size=128, validation_data=(X_val, y_val))"
   ]
  },
  {
   "cell_type": "code",
   "execution_count": 21,
   "id": "cd2fc6c0",
   "metadata": {
    "execution": {
     "iopub.execute_input": "2024-11-06T08:37:13.374178Z",
     "iopub.status.busy": "2024-11-06T08:37:13.373375Z",
     "iopub.status.idle": "2024-11-06T08:37:13.991264Z",
     "shell.execute_reply": "2024-11-06T08:37:13.990150Z"
    },
    "papermill": {
     "duration": 0.67025,
     "end_time": "2024-11-06T08:37:13.994028",
     "exception": false,
     "start_time": "2024-11-06T08:37:13.323778",
     "status": "completed"
    },
    "tags": []
   },
   "outputs": [
    {
     "data": {
      "image/png": "[encoded data removed]",
      "text/plain": [
       "<Figure size 1200x500 with 2 Axes>"
      ]
     },
     "metadata": {},
     "output_type": "display_data"
    }
   ],
   "source": [
    "# Visualize the training results\n",
    "plt.figure(figsize=(12, 5))\n",
    "\n",
    "# Loss graph\n",
    "plt.subplot(1, 2, 1)\n",
    "plt.plot(results.history['loss'], label='Train Loss')  # Plot training loss\n",
    "plt.plot(results.history['val_loss'], label='Validation Loss')  # Plot validation loss\n",
    "plt.title('Loss Graph')  # Set the title for the loss graph\n",
    "plt.xlabel('Epochs')  # Label for the x-axis\n",
    "plt.ylabel('Loss')  # Label for the y-axis\n",
    "plt.legend()  # Show legend for the graph\n",
    "\n",
    "# Accuracy graph\n",
    "plt.subplot(1, 2, 2)\n",
    "plt.plot(results.history['accuracy'], label='Train Accuracy')  # Plot training accuracy\n",
    "plt.plot(results.history['val_accuracy'], label='Validation Accuracy')  # Plot validation accuracy\n",
    "plt.title('Accuracy Graph')  # Set the title for the accuracy graph\n",
    "plt.xlabel('Epochs')  # Label for the x-axis\n",
    "plt.ylabel('Accuracy')  # Label for the y-axis\n",
    "plt.legend()  # Show legend for the graph\n",
    "\n",
    "plt.tight_layout()  # Adjust layout for better spacing\n",
    "plt.show()  # Display the graphs"
   ]
  },
  {
   "cell_type": "markdown",
   "id": "4e6a1c5b",
   "metadata": {
    "papermill": {
     "duration": 0.049022,
     "end_time": "2024-11-06T08:37:14.092778",
     "exception": false,
     "start_time": "2024-11-06T08:37:14.043756",
     "status": "completed"
    },
    "tags": []
   },
   "source": [
    "**Model Prediction**"
   ]
  },
  {
   "cell_type": "code",
   "execution_count": 22,
   "id": "9fb1e272",
   "metadata": {
    "execution": {
     "iopub.execute_input": "2024-11-06T08:37:14.194864Z",
     "iopub.status.busy": "2024-11-06T08:37:14.194303Z",
     "iopub.status.idle": "2024-11-06T08:37:15.109480Z",
     "shell.execute_reply": "2024-11-06T08:37:15.108499Z"
    },
    "papermill": {
     "duration": 0.970148,
     "end_time": "2024-11-06T08:37:15.112117",
     "exception": false,
     "start_time": "2024-11-06T08:37:14.141969",
     "status": "completed"
    },
    "tags": []
   },
   "outputs": [
    {
     "name": "stdout",
     "output_type": "stream",
     "text": [
      "\u001b[1m313/313\u001b[0m \u001b[32m━━━━━━━━━━━━━━━━━━━━\u001b[0m\u001b[37m\u001b[0m \u001b[1m1s\u001b[0m 2ms/step\n"
     ]
    }
   ],
   "source": [
    "# Make predictions using the test set\n",
    "y_pred = model.predict(X_test)  # Generate predictions for the test data\n",
    "\n",
    "# Convert predicted probabilities to class labels\n",
    "y_pred_classes = np.argmax(y_pred, axis=1)  # Get the index of the maximum probability for each prediction"
   ]
  },
  {
   "cell_type": "markdown",
   "id": "93d2258e",
   "metadata": {
    "papermill": {
     "duration": 0.050096,
     "end_time": "2024-11-06T08:37:15.212927",
     "exception": false,
     "start_time": "2024-11-06T08:37:15.162831",
     "status": "completed"
    },
    "tags": []
   },
   "source": [
    "**Model Evaluation**"
   ]
  },
  {
   "cell_type": "code",
   "execution_count": 23,
   "id": "f1f627ac",
   "metadata": {
    "execution": {
     "iopub.execute_input": "2024-11-06T08:37:15.317394Z",
     "iopub.status.busy": "2024-11-06T08:37:15.316234Z",
     "iopub.status.idle": "2024-11-06T08:37:15.984475Z",
     "shell.execute_reply": "2024-11-06T08:37:15.983160Z"
    },
    "papermill": {
     "duration": 0.723799,
     "end_time": "2024-11-06T08:37:15.987058",
     "exception": false,
     "start_time": "2024-11-06T08:37:15.263259",
     "status": "completed"
    },
    "tags": []
   },
   "outputs": [
    {
     "name": "stdout",
     "output_type": "stream",
     "text": [
      "Test Loss: 0.07945062220096588\n",
      "Test Accuracy: 0.9781000018119812\n"
     ]
    }
   ],
   "source": [
    "# Evaluate the model on the test set to determine its performance\n",
    "test_loss, test_accuracy = model.evaluate(X_test, y_test, verbose=0)  # Calculate loss and accuracy on the test data\n",
    "\n",
    "# Print the test loss and accuracy results\n",
    "print('Test Loss:', test_loss)  # Output the test loss\n",
    "print('Test Accuracy:', test_accuracy)  # Output the test accuracy"
   ]
  }
 ],
 "metadata": {
  "kaggle": {
   "accelerator": "none",
   "dataSources": [
    {
     "datasetId": 102285,
     "sourceId": 242592,
     "sourceType": "datasetVersion"
    }
   ],
   "dockerImageVersionId": 30786,
   "isGpuEnabled": false,
   "isInternetEnabled": true,
   "language": "python",
   "sourceType": "notebook"
  },
  "kernelspec": {
   "display_name": "Python 3",
   "language": "python",
   "name": "python3"
  },
  "language_info": {
   "codemirror_mode": {
    "name": "ipython",
    "version": 3
   },
   "file_extension": ".py",
   "mimetype": "text/x-python",
   "name": "python",
   "nbconvert_exporter": "python",
   "pygments_lexer": "ipython3",
   "version": "3.10.14"
  },
  "papermill": {
   "default_parameters": {},
   "duration": 62.754904,
   "end_time": "2024-11-06T08:37:17.561438",
   "environment_variables": {},
   "exception": null,
   "input_path": "__notebook__.ipynb",
   "output_path": "__notebook__.ipynb",
   "parameters": {},
   "start_time": "2024-11-06T08:36:14.806534",
   "version": "2.6.0"
  }
 },
 "nbformat": 4,
 "nbformat_minor": 5
}
